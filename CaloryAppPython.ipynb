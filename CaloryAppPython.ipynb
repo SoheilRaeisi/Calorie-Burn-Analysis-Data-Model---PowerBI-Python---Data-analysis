{
  "nbformat": 4,
  "nbformat_minor": 0,
  "metadata": {
    "colab": {
      "provenance": [],
      "authorship_tag": "ABX9TyOmI5R14R/DgwIYwKsmKlIq",
      "include_colab_link": true
    },
    "kernelspec": {
      "name": "python3",
      "display_name": "Python 3"
    },
    "language_info": {
      "name": "python"
    }
  },
  "cells": [
    {
      "cell_type": "markdown",
      "metadata": {
        "id": "view-in-github",
        "colab_type": "text"
      },
      "source": [
        "<a href=\"https://colab.research.google.com/github/SoheilRaeisi/Calorie-Burn-Analysis-Data-Model---PowerBI-Python---Data-analysis/blob/main/CaloryAppPython.ipynb\" target=\"_parent\"><img src=\"https://colab.research.google.com/assets/colab-badge.svg\" alt=\"Open In Colab\"/></a>"
      ]
    },
    {
      "cell_type": "code",
      "source": [
        "import pandas as pd\n",
        "import numpy as np\n",
        "\n",
        "# Create a DataFrame for the Fact Table\n",
        "data = {\n",
        "    \"Date_ID\": pd.date_range(start=\"2013-01-01\", end=\"2013-12-31\", freq=\"D\").strftime(\"%Y%m%d\"),\n",
        "    \"User_ID\": np.random.randint(1, 51, size=365),\n",
        "    \"Activity_ID\": np.random.randint(1, 11, size=365),\n",
        "    \"Calories_Burned\": np.random.randint(100, 1000, size=365),\n",
        "    \"Duration\": np.random.randint(10, 90, size=365)\n",
        "}\n",
        "fact_table = pd.DataFrame(data)\n",
        "\n",
        "# Create Dimension Tables\n",
        "date_dim = pd.DataFrame({\n",
        "    \"Date_ID\": pd.date_range(start=\"2013-01-01\", end=\"2013-12-31\", freq=\"D\").strftime(\"%Y%m%d\"),\n",
        "    \"Date\": pd.date_range(start=\"2013-01-01\", end=\"2013-12-31\", freq=\"D\"),\n",
        "    \"Day_of_Week\": pd.date_range(start=\"2013-01-01\", end=\"2013-12-31\", freq=\"D\").day_name(),\n",
        "    \"Month\": pd.date_range(start=\"2013-01-01\", end=\"2013-12-31\", freq=\"D\").month_name(),\n",
        "    \"Year\": pd.date_range(start=\"2013-01-01\", end=\"2013-12-31\", freq=\"D\").year\n",
        "})\n",
        "\n",
        "activity_dim = pd.DataFrame({\n",
        "    \"Activity_ID\": np.arange(1, 11),\n",
        "    \"Activity_Name\": [\"Running\", \"Walking\", \"Cycling\", \"Swimming\", \"Yoga\", \"Hiking\", \"Dancing\", \"Weightlifting\", \"Pilates\", \"Zumba\"]\n",
        "})\n",
        "\n",
        "user_dim = pd.DataFrame({\n",
        "    \"User_ID\": np.arange(1, 51),\n",
        "    \"User_Name\": [\"User\" + str(i) for i in range(1, 51)],\n",
        "    \"Gender\": np.random.choice([\"Male\", \"Female\"], 50),\n",
        "    \"Age\": np.random.randint(18, 65, 50)\n",
        "})\n",
        "\n",
        "# Save the dataframes to Excel sheets\n",
        "writer = pd.ExcelWriter(\"calories_burned_2.xlsx\")\n",
        "fact_table.to_excel(writer, sheet_name=\"Fact_Table\", index=False)\n",
        "date_dim.to_excel(writer, sheet_name=\"Date_Dimension\", index=False)\n",
        "activity_dim.to_excel(writer, sheet_name=\"Activity_Dimension\", index=False)\n",
        "user_dim.to_excel(writer, sheet_name=\"User_Dimension\", index=False)\n",
        "\n",
        "# Close the writer to save the Excel file\n",
        "writer.close()"
      ],
      "metadata": {
        "id": "vlhhzeq92vC3"
      },
      "execution_count": null,
      "outputs": []
    }
  ]
}